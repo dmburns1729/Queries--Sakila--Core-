{
 "cells": [
  {
   "cell_type": "markdown",
   "id": "88aa0ff6",
   "metadata": {},
   "source": [
    "# Queries: Sakila (Core)"
   ]
  },
  {
   "cell_type": "markdown",
   "id": "ba98c79d",
   "metadata": {},
   "source": [
    "![png](https://s3.amazonaws.com/General_V88/boomyeah/company_209/chapter_3569/handouts/chapter3569_5431_sakila-db-model.png)"
   ]
  },
  {
   "cell_type": "code",
   "execution_count": 4,
   "id": "d3535e02",
   "metadata": {},
   "outputs": [],
   "source": [
    "import pandas as pd\n",
    "from sqlalchemy import create_engine"
   ]
  },
  {
   "cell_type": "code",
   "execution_count": null,
   "id": "f3176ab3",
   "metadata": {},
   "outputs": [],
   "source": [
    "# load data - change the path to match your drive!\n",
    "school_df = pd.read_csv('/content/School_Details.csv')\n",
    "# make sure it loaded correctly\n",
    "school_df.head(2)"
   ]
  },
  {
   "cell_type": "code",
   "execution_count": null,
   "id": "214de608",
   "metadata": {},
   "outputs": [],
   "source": [
    "# create sqlite engine for a database called schools\n",
    "engine = create_engine('sqlite:///schools.db', echo=True)\n",
    "# create connection to engine\n",
    "conn = engine.connect()"
   ]
  },
  {
   "cell_type": "code",
   "execution_count": null,
   "id": "a314d11b",
   "metadata": {},
   "outputs": [],
   "source": [
    "# add the dataframe as a table in sqlite\n",
    "sqlite_table = \"school_details\"\n",
    "school_df.to_sql(sqlite_table, conn, if_exists='fail')"
   ]
  },
  {
   "cell_type": "markdown",
   "id": "03d422b0",
   "metadata": {},
   "source": [
    "1. What query would you run to get all the customers inside city_id = 312? Your query should return the customers' first name, last name, email, address, and city."
   ]
  },
  {
   "cell_type": "code",
   "execution_count": 3,
   "id": "c9a5b114",
   "metadata": {},
   "outputs": [
    {
     "ename": "NameError",
     "evalue": "name 'engine' is not defined",
     "output_type": "error",
     "traceback": [
      "\u001b[0;31m---------------------------------------------------------------------------\u001b[0m",
      "\u001b[0;31mNameError\u001b[0m                                 Traceback (most recent call last)",
      "Cell \u001b[0;32mIn [3], line 10\u001b[0m\n\u001b[1;32m      1\u001b[0m sql \u001b[38;5;241m=\u001b[39m \u001b[38;5;124m\"\"\"\u001b[39m\n\u001b[1;32m      2\u001b[0m \u001b[38;5;124mSELECT c.first_name, c.last_name, c.email, a.address, t.city, t.city_id\u001b[39m\n\u001b[1;32m      3\u001b[0m \u001b[38;5;124mFROM address a \u001b[39m\n\u001b[0;32m   (...)\u001b[0m\n\u001b[1;32m      8\u001b[0m \u001b[38;5;124mWHERE t.city_id = 312;\u001b[39m\n\u001b[1;32m      9\u001b[0m \u001b[38;5;124m\"\"\"\u001b[39m\n\u001b[0;32m---> 10\u001b[0m pd\u001b[38;5;241m.\u001b[39mread_sql_query(sql, \u001b[43mengine\u001b[49m)\n",
      "\u001b[0;31mNameError\u001b[0m: name 'engine' is not defined"
     ]
    }
   ],
   "source": [
    "sql = \"\"\"\n",
    "SELECT c.first_name, c.last_name, c.email, a.address, t.city, t.city_id\n",
    "FROM address a \n",
    "INNER JOIN customer c\n",
    "\tON c.address_id = a.address_id\n",
    "INNER JOIN city t \n",
    "\tON a.city_id = t.city_id\n",
    "WHERE t.city_id = 312;\n",
    "\"\"\"\n",
    "pd.read_sql_query(sql, engine)"
   ]
  },
  {
   "cell_type": "markdown",
   "id": "99e812e0",
   "metadata": {},
   "source": [
    "2. What query would you run to get all comedy films? Note that the genre is called the category in this schema. Your query should return film title, description, release year, rating, and special features."
   ]
  },
  {
   "cell_type": "code",
   "execution_count": null,
   "id": "68fd408c",
   "metadata": {},
   "outputs": [],
   "source": [
    "SELECT f.title, f.description, f.release_year, f.rating, f.special_features, c.name\n",
    "FROM film f \n",
    "INNER JOIN film_category fc\n",
    "\tON f.film_id = fc.film_id\n",
    "INNER JOIN category c\n",
    "\tON fc.category_id = c.category_id\n",
    "WHERE  c.name = 'Comedy'; \t\t\n",
    "    "
   ]
  },
  {
   "cell_type": "markdown",
   "id": "6a3a2eaa",
   "metadata": {},
   "source": [
    "3. What query would you run to get all the films that Johnny Lollobrigida was in? Your query should return the actor's last name, film title, and release year.\n",
    "\n"
   ]
  },
  {
   "cell_type": "code",
   "execution_count": null,
   "id": "19624414",
   "metadata": {},
   "outputs": [],
   "source": [
    "SELECT a.last_name, f.title, f.release_year\n",
    "FROM actor a \n",
    "INNER JOIN film_actor fa\n",
    "\tON a.actor_id = fa.actor_id\n",
    "INNER JOIN film f\n",
    "\tON fa.film_id = f.film_id\n",
    "WHERE  a.last_name = 'Lollobrigida';"
   ]
  },
  {
   "cell_type": "markdown",
   "id": "391254c0",
   "metadata": {},
   "source": [
    "4. What query would you run to get the first and last names of all the actors in the movie titled \"Bingo Talented\"?\n",
    "\n"
   ]
  },
  {
   "cell_type": "markdown",
   "id": "9f2361f5",
   "metadata": {},
   "source": [
    "SELECT a.first_name, a.last_name\n",
    "FROM actor a \n",
    "INNER JOIN film_actor fa\n",
    "\tON a.actor_id = fa.actor_id\n",
    "INNER JOIN film f\n",
    "\tON fa.film_id = f.film_id\n",
    "WHERE  f.title = 'Bingo Talented';"
   ]
  },
  {
   "cell_type": "markdown",
   "id": "d73d0102",
   "metadata": {},
   "source": [
    "5. What query would you run to get the customer_id associated with all payments greater than twice the average payment amount? (HINT: use 2* in your query to get twice the amount). Your result should include the customer id and the amount."
   ]
  },
  {
   "cell_type": "code",
   "execution_count": null,
   "id": "ee5abe9b",
   "metadata": {},
   "outputs": [],
   "source": [
    "# Doesn't work\n",
    "\n",
    "SELECT p.customer_id, p.amount, AVG(p.amount) AS AveragePayment\n",
    "FROM payment p\n",
    "GROUP BY p.customer_id\n",
    "WHERE  p.amount > 2*AveragePayment"
   ]
  },
  {
   "cell_type": "markdown",
   "id": "32211899",
   "metadata": {},
   "source": [
    "6. What query would you run to list the first and last names of the 5 customers who have the highest number(count) of payments? You can title the number of payments as num_payments."
   ]
  },
  {
   "cell_type": "code",
   "execution_count": null,
   "id": "d92dfac5",
   "metadata": {},
   "outputs": [],
   "source": [
    "SELECT c.first_name, c.last_name, COUNT(p.amount) AS num_payments\n",
    "FROM payment p\n",
    "INNER JOIN customer c\n",
    "\tON c.customer_id = p.customer_id\n",
    "GROUP BY c.customer_id\n",
    "ORDER BY num_payments DESC\n",
    "LIMIT 5;\n",
    " "
   ]
  }
 ],
 "metadata": {
  "kernelspec": {
   "display_name": "Python (dojo-env)",
   "language": "python",
   "name": "dojo-env"
  },
  "language_info": {
   "codemirror_mode": {
    "name": "ipython",
    "version": 3
   },
   "file_extension": ".py",
   "mimetype": "text/x-python",
   "name": "python",
   "nbconvert_exporter": "python",
   "pygments_lexer": "ipython3",
   "version": "3.9.15"
  },
  "toc": {
   "base_numbering": 1,
   "nav_menu": {},
   "number_sections": false,
   "sideBar": true,
   "skip_h1_title": false,
   "title_cell": "Table of Contents",
   "title_sidebar": "Contents",
   "toc_cell": false,
   "toc_position": {},
   "toc_section_display": true,
   "toc_window_display": false
  }
 },
 "nbformat": 4,
 "nbformat_minor": 5
}
